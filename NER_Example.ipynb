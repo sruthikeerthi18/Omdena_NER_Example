{
 "cells": [
  {
   "cell_type": "markdown",
   "metadata": {},
   "source": [
    "##### Named Entity Recognition using SpaCy \n",
    "An Example of NER for a custom dataset found in <a href = \"https://www.kaggle.com/abhinavwalia95/entity-annotated-corpus\">here</a> \n",
    "\n",
    "References used:\n",
    "https://towardsdatascience.com/custom-named-entity-recognition-using-spacy-7140ebbb3718 <br>\n",
    "https://medium.com/@nikita25.pardesi/formatting-spacy-custom-training-data-the-easier-way-3aa4f35f6112<br>\n",
    "https://spacy.io/usage/training#basics<br>\n",
    "https://medium.com/@manivannan_data/how-to-train-ner-with-custom-training-data-using-spacy-188e0e508c6<br>"
   ]
  },
  {
   "cell_type": "code",
   "execution_count": 1,
   "metadata": {},
   "outputs": [],
   "source": [
    "#Import packages\n",
    "import spacy\n",
    "import pandas as pd\n",
    "import numpy as np\n",
    "\n",
    "import csv\n",
    "import json\n",
    "\n",
    "import random\n",
    "import re\n",
    "from tqdm import tqdm"
   ]
  },
  {
   "cell_type": "code",
   "execution_count": 2,
   "metadata": {},
   "outputs": [],
   "source": [
    "#Read dataset\n",
    "ner_dataset = pd.read_csv(\"ner_dataset.csv\", encoding = \"cp1252\")"
   ]
  },
  {
   "cell_type": "code",
   "execution_count": 3,
   "metadata": {},
   "outputs": [
    {
     "data": {
      "text/html": [
       "<div>\n",
       "<style scoped>\n",
       "    .dataframe tbody tr th:only-of-type {\n",
       "        vertical-align: middle;\n",
       "    }\n",
       "\n",
       "    .dataframe tbody tr th {\n",
       "        vertical-align: top;\n",
       "    }\n",
       "\n",
       "    .dataframe thead th {\n",
       "        text-align: right;\n",
       "    }\n",
       "</style>\n",
       "<table border=\"1\" class=\"dataframe\">\n",
       "  <thead>\n",
       "    <tr style=\"text-align: right;\">\n",
       "      <th></th>\n",
       "      <th>Sentence #</th>\n",
       "      <th>Word</th>\n",
       "      <th>POS</th>\n",
       "      <th>Tag</th>\n",
       "    </tr>\n",
       "  </thead>\n",
       "  <tbody>\n",
       "    <tr>\n",
       "      <th>0</th>\n",
       "      <td>Sentence: 1</td>\n",
       "      <td>Thousands</td>\n",
       "      <td>NNS</td>\n",
       "      <td>O</td>\n",
       "    </tr>\n",
       "    <tr>\n",
       "      <th>1</th>\n",
       "      <td>NaN</td>\n",
       "      <td>of</td>\n",
       "      <td>IN</td>\n",
       "      <td>O</td>\n",
       "    </tr>\n",
       "    <tr>\n",
       "      <th>2</th>\n",
       "      <td>NaN</td>\n",
       "      <td>demonstrators</td>\n",
       "      <td>NNS</td>\n",
       "      <td>O</td>\n",
       "    </tr>\n",
       "    <tr>\n",
       "      <th>3</th>\n",
       "      <td>NaN</td>\n",
       "      <td>have</td>\n",
       "      <td>VBP</td>\n",
       "      <td>O</td>\n",
       "    </tr>\n",
       "    <tr>\n",
       "      <th>4</th>\n",
       "      <td>NaN</td>\n",
       "      <td>marched</td>\n",
       "      <td>VBN</td>\n",
       "      <td>O</td>\n",
       "    </tr>\n",
       "  </tbody>\n",
       "</table>\n",
       "</div>"
      ],
      "text/plain": [
       "    Sentence #           Word  POS Tag\n",
       "0  Sentence: 1      Thousands  NNS   O\n",
       "1          NaN             of   IN   O\n",
       "2          NaN  demonstrators  NNS   O\n",
       "3          NaN           have  VBP   O\n",
       "4          NaN        marched  VBN   O"
      ]
     },
     "execution_count": 3,
     "metadata": {},
     "output_type": "execute_result"
    }
   ],
   "source": [
    "#View dataset\n",
    "ner_dataset.head()"
   ]
  },
  {
   "cell_type": "code",
   "execution_count": 4,
   "metadata": {},
   "outputs": [],
   "source": [
    "#Drop the columns that aren't necessary\n",
    "ner_dataset = ner_dataset.drop(labels = ['Sentence #', 'POS'],\n",
    "                               axis = 1)"
   ]
  },
  {
   "cell_type": "code",
   "execution_count": 5,
   "metadata": {},
   "outputs": [
    {
     "name": "stderr",
     "output_type": "stream",
     "text": [
      "100%|████████████████████████████████████████████████████████████████████████████████████████████████████████████████████████████████████████████████████████████████| 1048575/1048575 [01:14<00:00, 14042.75it/s]\n"
     ]
    }
   ],
   "source": [
    "#Converting to spacy training format\n",
    "#Example : (\"Uber blew through $1 million a week\", [(0, 4, 'ORG')])\n",
    "#The start and end position of the word and the label for the entity is given in a tuple.\n",
    "\n",
    "l1 = []\n",
    "l2 = []\n",
    "\n",
    "for i in tqdm(range(len(ner_dataset['Word']))):\n",
    "    l1.append(ner_dataset['Word'][i])\n",
    "    l2.append({'entities' : [(0, len(ner_dataset['Word'][i]), ner_dataset[\"Tag\"][i])]})\n",
    "TRAIN_DATA = list(zip(l1, l2))"
   ]
  },
  {
   "cell_type": "code",
   "execution_count": 6,
   "metadata": {},
   "outputs": [
    {
     "data": {
      "text/plain": [
       "1048575"
      ]
     },
     "execution_count": 6,
     "metadata": {},
     "output_type": "execute_result"
    }
   ],
   "source": [
    "len(TRAIN_DATA)"
   ]
  },
  {
   "cell_type": "code",
   "execution_count": 7,
   "metadata": {},
   "outputs": [],
   "source": [
    "#Defining a function to train a blank SpaCy model\n",
    "def train_spacy(data,iterations):\n",
    "    #Assign the training data\n",
    "    TRAIN_DATA = data\n",
    "    \n",
    "    #Initialize a blank SpaCy model\n",
    "    model = spacy.blank('en')  \n",
    "    print(\"Model created\")\n",
    "    \n",
    "    #Add NER to the model's pipeline, if it's not present already.\n",
    "    if 'ner' not in model.pipe_names:\n",
    "        ner = model.create_pipe('ner')\n",
    "        model.add_pipe(ner, last=True)\n",
    "    print(\"NER added to pipeline\")\n",
    "    \n",
    "    #Adding the labels to the model\n",
    "    for _, annotations in TRAIN_DATA:\n",
    "         for ent in annotations.get('entities'):\n",
    "            ner.add_label(ent[2])\n",
    "    print(\"Labels added\")\n",
    "    \n",
    "    #Disabling other functions in the pipepline while training the model\n",
    "    other_pipes = [pipe for pipe in model.pipe_names if pipe != 'ner']\n",
    "    with model.disable_pipes(*other_pipes): \n",
    "        #Begin training\n",
    "        print(\"Other functions disabled\")\n",
    "        optimizer = model.begin_training()\n",
    "        print(\"Training\")\n",
    "        for itn in range(iterations):\n",
    "            print(\"Statring iteration \" + str(itn))\n",
    "            #Train the models in a random order\n",
    "            random.shuffle(TRAIN_DATA)\n",
    "#             i = 0\n",
    "            losses = {}\n",
    "    \n",
    "            #Update the model for each entity\n",
    "            for n in tqdm(range(len(TRAIN_DATA))):\n",
    "                text = TRAIN_DATA[n][0]\n",
    "                annotations = TRAIN_DATA[n][1]\n",
    "#                 print(i)\n",
    "#                 i = i + 1\n",
    "                model.update(\n",
    "                    [text],\n",
    "                    [annotations],\n",
    "                    drop=0.2,\n",
    "                    sgd=optimizer,\n",
    "                    losses=losses)\n",
    "#                 print(\"Done :\", text)\n",
    "            print(losses)\n",
    "        print(\"Training complete\")\n",
    "    return model"
   ]
  },
  {
   "cell_type": "code",
   "execution_count": null,
   "metadata": {},
   "outputs": [
    {
     "name": "stdout",
     "output_type": "stream",
     "text": [
      "Model created\n",
      "NER added to pipeline\n",
      "Labels added\n",
      "Other functions disabled\n",
      "Training\n",
      "Statring iteration 0\n"
     ]
    },
    {
     "name": "stderr",
     "output_type": "stream",
     "text": [
      " 56%|█████████████████████████████████████████████████████████████████████████████████████████                                                                     | 590782/1048575 [15:19:44<10:15:57, 12.39it/s]"
     ]
    }
   ],
   "source": [
    "#Train a model\n",
    "ner_model = train_spacy(TRAIN_DATA, 5)"
   ]
  },
  {
   "cell_type": "code",
   "execution_count": null,
   "metadata": {},
   "outputs": [],
   "source": [
    "ner_model.meta['name'] = \"NER_MODEL_1\" \n",
    "ner_model.to_disk(\"ner_model_1\")\n",
    "print(\"Saved model\")"
   ]
  },
  {
   "cell_type": "code",
   "execution_count": null,
   "metadata": {},
   "outputs": [],
   "source": [
    "test_text = \"Thousands of demonstrators have marched through London to protest the war in Iraq and demand the withdrawal of British troops from that country.\""
   ]
  },
  {
   "cell_type": "code",
   "execution_count": null,
   "metadata": {},
   "outputs": [],
   "source": [
    "doc = ner_model(test_text)"
   ]
  },
  {
   "cell_type": "code",
   "execution_count": null,
   "metadata": {},
   "outputs": [],
   "source": [
    "for ent in doc.ents:\n",
    "    print(ent.text, ent.start_char, ent.end_char, ent.label_)"
   ]
  },
  {
   "cell_type": "code",
   "execution_count": null,
   "metadata": {},
   "outputs": [],
   "source": []
  }
 ],
 "metadata": {
  "kernelspec": {
   "display_name": "Python 3",
   "language": "python",
   "name": "python3"
  },
  "language_info": {
   "codemirror_mode": {
    "name": "ipython",
    "version": 3
   },
   "file_extension": ".py",
   "mimetype": "text/x-python",
   "name": "python",
   "nbconvert_exporter": "python",
   "pygments_lexer": "ipython3",
   "version": "3.7.3"
  }
 },
 "nbformat": 4,
 "nbformat_minor": 2
}
